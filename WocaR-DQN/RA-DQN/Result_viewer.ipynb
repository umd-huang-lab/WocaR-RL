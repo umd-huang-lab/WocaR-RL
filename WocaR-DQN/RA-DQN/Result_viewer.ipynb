{
 "cells": [
  {
   "cell_type": "code",
   "execution_count": 1,
   "metadata": {},
   "outputs": [],
   "source": [
    "import numpy as np"
   ]
  },
  {
   "cell_type": "code",
   "execution_count": 2,
   "metadata": {},
   "outputs": [],
   "source": [
    "#path = 'figures/BankHeistNoFrameskip-v4_2020-05-25_10:08:01_last/' #sadqn 0.02\n",
    "#path = 'figures/PongNoFrameskip-v4_2020-05-25_23:17:07_last/'\n",
    "#path = 'figures/PongNoFrameskip-v4_2020-05-26_11:55:51_best/'\n",
    "#path = 'figures/RoadRunnerNoFrameskip-v4_2020-05-25_10:08:46_last/' #sadqn 0.02\n",
    "#path = 'figures/PongNoFrameskip-v4_2020-05-29_13:16:04_last/' #sadqn 0.02\n",
    "path = 'figures/RoadRunnerNoFrameskip-v4_robust_ours/'"
   ]
  },
  {
   "cell_type": "code",
   "execution_count": 3,
   "metadata": {},
   "outputs": [
    {
     "name": "stdout",
     "output_type": "stream",
     "text": [
      "41720.0\n",
      "[3288.10431708]\n"
     ]
    }
   ],
   "source": [
    "nominal = np.load(path+'nominal.npy')\n",
    "print(np.mean(nominal))\n",
    "sem = np.std(nominal)/np.sqrt(np.shape(nominal))\n",
    "print(sem)"
   ]
  },
  {
   "cell_type": "code",
   "execution_count": 4,
   "metadata": {},
   "outputs": [
    {
     "name": "stdout",
     "output_type": "stream",
     "text": [
      "[0.00117647 0.00392157 0.01176471 0.03137255]\n",
      "[42005. 44515. 26055.  1965.]\n",
      "[1509.06386545 1570.87992858 1924.58404597  337.88126613]\n"
     ]
    }
   ],
   "source": [
    "eps = np.load(path + 'fgsm_epsilons.npy')\n",
    "print(eps)\n",
    "vals = np.load(path + 'fgsm.npy')\n",
    "print(np.mean(vals, axis=1))\n",
    "sem = np.std(vals, axis=1)/np.sqrt(np.shape(vals)[1])\n",
    "print(sem)"
   ]
  },
  {
   "cell_type": "code",
   "execution_count": 5,
   "metadata": {},
   "outputs": [
    {
     "name": "stdout",
     "output_type": "stream",
     "text": [
      "[0.00117647 0.00392157 0.01176471 0.03137255]\n",
      "[3.909e+04 4.392e+04 1.248e+04 5.000e+00]\n",
      "[2168.01637448 1238.23664943  901.23803737    4.87339717]\n"
     ]
    }
   ],
   "source": [
    "eps = np.load(path + 'pgd_epsilons.npy')\n",
    "print(eps)\n",
    "vals = np.load(path + 'pgd.npy')\n",
    "print(np.mean(vals, axis=1))\n",
    "sem = np.std(vals, axis=1)/np.sqrt(np.shape(vals)[1])\n",
    "print(sem)"
   ]
  },
  {
   "cell_type": "code",
   "execution_count": 6,
   "metadata": {},
   "outputs": [
    {
     "name": "stdout",
     "output_type": "stream",
     "text": [
      "[0.00117647 0.00392157 0.01176471 0.03137255]\n",
      "[38885. 33745.     0.     0.]\n",
      "[2017.93551681 2349.16447913    0.            0.        ]\n"
     ]
    }
   ],
   "source": [
    "eps = np.load(path + 'greedy_wc_epsilons.npy')\n",
    "print(eps)\n",
    "vals = np.load(path + 'greedy_wc.npy')\n",
    "print(np.mean(vals, axis=1))\n",
    "sem = np.std(vals, axis=1)/np.sqrt(np.shape(vals)[1])\n",
    "print(sem)"
   ]
  },
  {
   "cell_type": "code",
   "execution_count": 7,
   "metadata": {},
   "outputs": [
    {
     "name": "stdout",
     "output_type": "stream",
     "text": [
      "[0.00117647 0.00392157 0.01176471 0.03137255]\n",
      "[0.88293945 0.70004686 0.         0.        ]\n",
      "[0.00775984 0.00585064 0.         0.        ]\n"
     ]
    }
   ],
   "source": [
    "eps = np.load(path + 'acr_epsilons.npy')\n",
    "print(eps)\n",
    "vals = np.load(path + 'acr.npy')\n",
    "print(np.mean(vals, axis=1))\n",
    "sem = np.std(vals, axis=1)/np.sqrt(np.shape(vals)[1])\n",
    "print(sem)"
   ]
  },
  {
   "cell_type": "code",
   "execution_count": 8,
   "metadata": {},
   "outputs": [
    {
     "name": "stdout",
     "output_type": "stream",
     "text": [
      "[0.01 0.02 0.05 0.1 ]\n",
      "[36070. 34095. 22225. 15345.]\n",
      "[2049.47676249 1281.43425504 1599.04463665 1296.23445024]\n"
     ]
    }
   ],
   "source": [
    "eps = np.load(path + 'action_pert_epsilons.npy')\n",
    "print(eps)\n",
    "vals = np.load(path + 'action_pert.npy')\n",
    "print(np.mean(vals, axis=1))\n",
    "sem = np.std(vals, axis=1)/np.sqrt(np.shape(vals)[1])\n",
    "print(sem)"
   ]
  },
  {
   "cell_type": "code",
   "execution_count": null,
   "metadata": {},
   "outputs": [],
   "source": []
  }
 ],
 "metadata": {
  "kernelspec": {
   "display_name": "Python 3",
   "language": "python",
   "name": "python3"
  },
  "language_info": {
   "codemirror_mode": {
    "name": "ipython",
    "version": 3
   },
   "file_extension": ".py",
   "mimetype": "text/x-python",
   "name": "python",
   "nbconvert_exporter": "python",
   "pygments_lexer": "ipython3",
   "version": "3.7.6"
  }
 },
 "nbformat": 4,
 "nbformat_minor": 4
}
